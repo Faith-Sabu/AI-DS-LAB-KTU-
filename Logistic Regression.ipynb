{
 "cells": [
  {
   "cell_type": "code",
   "execution_count": 19,
   "id": "e58529d0",
   "metadata": {},
   "outputs": [
    {
     "name": "stdout",
     "output_type": "stream",
     "text": [
      "Enter the radius of Tumour:11\n",
      "It is Beningn Tumour\n"
     ]
    }
   ],
   "source": [
    "import numpy as np\n",
    "import pandas as pd\n",
    "from sklearn import linear_model\n",
    "data=pd.read_csv('cancer.csv')\n",
    "x=np.array(data['radius_mean']).reshape(-1,1)\n",
    "y=np.array(data['diagnosis'])\n",
    "logr=linear_model.LogisticRegression()\n",
    "logr.fit(x,y)\n",
    "radius=float(input(\"Enter the radius of Tumour:\"))\n",
    "predicted=logr.predict(np.array([radius]).reshape(-1,1))\n",
    "if predicted =='B':\n",
    "    print(\"It is Beningn Tumour\")\n",
    "else:\n",
    "    print(\"It is Malignant Tumour\")"
   ]
  }
 ],
 "metadata": {
  "kernelspec": {
   "display_name": "Python 3 (ipykernel)",
   "language": "python",
   "name": "python3"
  },
  "language_info": {
   "codemirror_mode": {
    "name": "ipython",
    "version": 3
   },
   "file_extension": ".py",
   "mimetype": "text/x-python",
   "name": "python",
   "nbconvert_exporter": "python",
   "pygments_lexer": "ipython3",
   "version": "3.9.12"
  }
 },
 "nbformat": 4,
 "nbformat_minor": 5
}
