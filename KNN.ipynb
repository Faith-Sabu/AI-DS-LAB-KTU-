{
 "cells": [
  {
   "cell_type": "code",
   "execution_count": 5,
   "id": "77cb1341",
   "metadata": {},
   "outputs": [],
   "source": [
    "from sklearn.datasets import load_iris\n",
    "from sklearn.model_selection import train_test_split\n",
    "from sklearn.neighbors import KNeighborsClassifier\n",
    "from sklearn.metrics import accuracy_score"
   ]
  },
  {
   "cell_type": "code",
   "execution_count": 8,
   "id": "463f84bb",
   "metadata": {},
   "outputs": [
    {
     "name": "stdout",
     "output_type": "stream",
     "text": [
      "Accuracy: 96.66666666666667\n",
      "Sample\t\tPrediction\t\tActual\t\tPredicted\n",
      "1 \t\tCorrect Prediction\t 0 \t\t 0\n",
      "2 \t\tCorrect Prediction\t 2 \t\t 2\n",
      "3 \t\tCorrect Prediction\t 1 \t\t 1\n",
      "4 \t\tCorrect Prediction\t 2 \t\t 2\n",
      "5 \t\tCorrect Prediction\t 1 \t\t 1\n",
      "6 \t\tCorrect Prediction\t 1 \t\t 1\n",
      "7 \t\tCorrect Prediction\t 1 \t\t 1\n",
      "8 \t\tCorrect Prediction\t 2 \t\t 2\n",
      "9 \t\tCorrect Prediction\t 1 \t\t 1\n",
      "10 \t\tCorrect Prediction\t 0 \t\t 0\n",
      "11 \t\tCorrect Prediction\t 2 \t\t 2\n",
      "12 \t\tCorrect Prediction\t 1 \t\t 1\n",
      "13 \t\tCorrect Prediction\t 2 \t\t 2\n",
      "14 \t\tCorrect Prediction\t 2 \t\t 2\n",
      "15 \t\tCorrect Prediction\t 0 \t\t 0\n",
      "16 \t\tCorrect Prediction\t 2 \t\t 2\n",
      "17 \t\tCorrect Prediction\t 1 \t\t 1\n",
      "18 \t\tCorrect Prediction\t 1 \t\t 1\n",
      "19 \t\tWrong Prediction\t 2 \t\t 1\n",
      "20 \t\tCorrect Prediction\t 1 \t\t 1\n",
      "21 \t\tCorrect Prediction\t 0 \t\t 0\n",
      "22 \t\tCorrect Prediction\t 2 \t\t 2\n",
      "23 \t\tCorrect Prediction\t 0 \t\t 0\n",
      "24 \t\tCorrect Prediction\t 1 \t\t 1\n",
      "25 \t\tCorrect Prediction\t 2 \t\t 2\n",
      "26 \t\tCorrect Prediction\t 0 \t\t 0\n",
      "27 \t\tCorrect Prediction\t 2 \t\t 2\n",
      "28 \t\tCorrect Prediction\t 2 \t\t 2\n",
      "29 \t\tCorrect Prediction\t 2 \t\t 2\n",
      "30 \t\tCorrect Prediction\t 2 \t\t 2\n"
     ]
    }
   ],
   "source": [
    "data=load_iris()\n",
    "X=data.data\n",
    "Y=data.target\n",
    "Xtrain,Xtest,Ytrain,Ytest=train_test_split(X,Y,test_size=0.2,random_state=22)\n",
    "knn=KNeighborsClassifier(n_neighbors=3)\n",
    "knn.fit(Xtrain,Ytrain)\n",
    "Ypredict=knn.predict(Xtest)\n",
    "accuracy=accuracy_score(Ytest,Ypredict)\n",
    "print(\"Accuracy:\",accuracy*100)\n",
    "print(\"Sample\\t\\tPrediction\\t\\tActual\\t\\tPredicted\")\n",
    "for i in range(len(Ytest)):\n",
    "    if Ypredict[i]==Ytest[i]:\n",
    "        print(i+1,'\\t\\tCorrect Prediction\\t',Ytest[i],'\\t\\t',Ypredict[i])\n",
    "    else:\n",
    "        print(i+1,'\\t\\tWrong Prediction\\t',Ytest[i],'\\t\\t',Ypredict[i])\n"
   ]
  },
  {
   "cell_type": "raw",
   "id": "c79036c6",
   "metadata": {},
   "source": []
  },
  {
   "cell_type": "code",
   "execution_count": null,
   "id": "f81844c3",
   "metadata": {},
   "outputs": [],
   "source": []
  }
 ],
 "metadata": {
  "kernelspec": {
   "display_name": "Python 3 (ipykernel)",
   "language": "python",
   "name": "python3"
  },
  "language_info": {
   "codemirror_mode": {
    "name": "ipython",
    "version": 3
   },
   "file_extension": ".py",
   "mimetype": "text/x-python",
   "name": "python",
   "nbconvert_exporter": "python",
   "pygments_lexer": "ipython3",
   "version": "3.9.12"
  }
 },
 "nbformat": 4,
 "nbformat_minor": 5
}
